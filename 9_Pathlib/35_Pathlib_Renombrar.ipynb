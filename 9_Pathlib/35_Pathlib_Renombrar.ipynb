{
 "cells": [
  {
   "cell_type": "code",
   "execution_count": null,
   "metadata": {},
   "outputs": [],
   "source": [
    "from pathlib import Path\n",
    "\n",
    "ruta = Path('prueba') # Seleccionar una ruta\n",
    "ruta.rename('Prueba_Renombrada') # Renombrar la ruta seleccionada"
   ]
  },
  {
   "cell_type": "code",
   "execution_count": null,
   "metadata": {},
   "outputs": [],
   "source": [
    "ruta_2 = Path('Prueba_Renombrada/archivo.txt') # Seleccionar un archivo\n",
    "print(ruta_2)"
   ]
  },
  {
   "cell_type": "code",
   "execution_count": null,
   "metadata": {},
   "outputs": [],
   "source": [
    "ruta_2.rename('Prueba_Renombrada/renombrado.txt') # Renombrar el archivo"
   ]
  },
  {
   "cell_type": "code",
   "execution_count": null,
   "metadata": {},
   "outputs": [],
   "source": [
    "carpeta = Path('2024')\n",
    "for r in carpeta.iterdir():\n",
    "    print(r)"
   ]
  },
  {
   "cell_type": "code",
   "execution_count": null,
   "metadata": {},
   "outputs": [],
   "source": [
    "carpeta_2 = Path(\"2024\").glob(\"**/*\") ## glob(\"**/*\") permite iterar todos los archivos y rutas dentro del directorio\n",
    "for r in carpeta_2:\n",
    "    print(r)"
   ]
  },
  {
   "cell_type": "code",
   "execution_count": null,
   "metadata": {},
   "outputs": [],
   "source": [
    "carpeta_3 = Path(\"2024\").glob(\"**/*\") # Se iteran todos los archivos del directorio\n",
    "for r in carpeta_3: # Bucle for para iterar todos los elementos\n",
    "    if r.is_file(): # Si se encuentra que r es un archivo\n",
    "        print(r) # Se imprime"
   ]
  },
  {
   "cell_type": "code",
   "execution_count": null,
   "metadata": {},
   "outputs": [],
   "source": [
    "carpeta_4 = Path(\"2024\").glob(\"**/*.py\") # Se buscarán sólo archivos de extensión .py o de la extensión que querramos\n",
    "for r in carpeta_4:\n",
    "    if r.is_file():\n",
    "        print(r)"
   ]
  }
 ],
 "metadata": {
  "kernelspec": {
   "display_name": "Python 3",
   "language": "python",
   "name": "python3"
  },
  "language_info": {
   "codemirror_mode": {
    "name": "ipython",
    "version": 3
   },
   "file_extension": ".py",
   "mimetype": "text/x-python",
   "name": "python",
   "nbconvert_exporter": "python",
   "pygments_lexer": "ipython3",
   "version": "3.12.4"
  }
 },
 "nbformat": 4,
 "nbformat_minor": 2
}
