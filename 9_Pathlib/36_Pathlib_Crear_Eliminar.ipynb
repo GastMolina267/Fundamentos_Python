{
 "cells": [
  {
   "cell_type": "code",
   "execution_count": null,
   "metadata": {},
   "outputs": [],
   "source": [
    "# Creando una lista de números\n",
    "numeros = list(range(1,21))\n",
    "print(numeros)"
   ]
  },
  {
   "cell_type": "code",
   "execution_count": 6,
   "metadata": {},
   "outputs": [],
   "source": [
    "for i in numeros:\n",
    "    # Creando archivos .txt en una ruta específica\n",
    "    with open(f\"Nueva_Carpeta/archivo_{i}.txt\", \"w\") as file:\n",
    "        file.write(f\"Este archivo pertenece al índice: {i}\")"
   ]
  },
  {
   "cell_type": "code",
   "execution_count": 4,
   "metadata": {},
   "outputs": [],
   "source": [
    "from pathlib import Path\n",
    "# Buscando en la dirección especificada, todos los archivos de extensión .txt\n",
    "rutas = list(Path(\"Nueva_Carpeta\").glob(\"**/*.txt\"))"
   ]
  },
  {
   "cell_type": "code",
   "execution_count": 5,
   "metadata": {},
   "outputs": [],
   "source": [
    "for ruta in rutas:\n",
    "    # Borrando todos los archivos de extensión .txt\n",
    "    ruta.unlink()"
   ]
  }
 ],
 "metadata": {
  "kernelspec": {
   "display_name": "Python 3",
   "language": "python",
   "name": "python3"
  },
  "language_info": {
   "codemirror_mode": {
    "name": "ipython",
    "version": 3
   },
   "file_extension": ".py",
   "mimetype": "text/x-python",
   "name": "python",
   "nbconvert_exporter": "python",
   "pygments_lexer": "ipython3",
   "version": "3.12.4"
  }
 },
 "nbformat": 4,
 "nbformat_minor": 2
}
