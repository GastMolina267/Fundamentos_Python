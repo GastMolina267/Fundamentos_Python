{
 "cells": [
  {
   "cell_type": "code",
   "execution_count": null,
   "metadata": {},
   "outputs": [],
   "source": [
    "from pathlib import Path\n",
    "# Creamos un nuevo objeto Path\n",
    "ruta = Path(\"Nueva_Carpeta\")\n",
    "# Creamos la carpeta en este mismo directorio\n",
    "ruta.mkdir(exist_ok=True) # Si existe -> no la crea; Si no existe -> la crea"
   ]
  },
  {
   "cell_type": "code",
   "execution_count": null,
   "metadata": {},
   "outputs": [],
   "source": [
    "# Creamos un nuevo objeto Path\n",
    "ruta_2 = Path(\"Nueva_Carpeta_2/Subcarpeta/Subcarpeta_2\")\n",
    "# Agregar los parientes del Path si es que no existen\n",
    "ruta_2.mkdir(parents=True, exist_ok=True)"
   ]
  },
  {
   "cell_type": "code",
   "execution_count": null,
   "metadata": {},
   "outputs": [],
   "source": [
    "ruta_3 = Path(\"Nueva_Carpeta_2/Subcarpeta_2/Subcarpeta_2\")\n",
    "# Podemos crear nuevas subcarpetas dentro de un directorio ya existente\n",
    "ruta_3.mkdir(parents=True, exist_ok=True)"
   ]
  },
  {
   "cell_type": "code",
   "execution_count": null,
   "metadata": {},
   "outputs": [],
   "source": [
    "# Importar el módulo calendar para obtener los nombres de los meses\n",
    "import calendar\n",
    "# Creando lista con el nombre de todos los meses\n",
    "meses = list(calendar.month_name)[1:]\n",
    "print(meses)"
   ]
  },
  {
   "cell_type": "code",
   "execution_count": null,
   "metadata": {},
   "outputs": [],
   "source": [
    "# Creando lista con números que representen los días de un mes\n",
    "dias = [i for i in range(1,30)]\n",
    "print(dias)"
   ]
  },
  {
   "cell_type": "code",
   "execution_count": null,
   "metadata": {},
   "outputs": [],
   "source": [
    "for mes in meses:\n",
    "    for dia in dias:\n",
    "        print(f\"Mes: {mes}, Días: {dia}\")\n",
    "        ruta = Path(f\"2024/{mes}/{dia}\")\n",
    "        ruta.mkdir(parents=True, exist_ok=True)"
   ]
  }
 ],
 "metadata": {
  "kernelspec": {
   "display_name": "Python 3",
   "language": "python",
   "name": "python3"
  },
  "language_info": {
   "codemirror_mode": {
    "name": "ipython",
    "version": 3
   },
   "file_extension": ".py",
   "mimetype": "text/x-python",
   "name": "python",
   "nbconvert_exporter": "python",
   "pygments_lexer": "ipython3",
   "version": "3.12.4"
  }
 },
 "nbformat": 4,
 "nbformat_minor": 2
}
