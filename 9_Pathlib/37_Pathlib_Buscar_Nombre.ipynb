{
 "cells": [
  {
   "cell_type": "code",
   "execution_count": null,
   "metadata": {},
   "outputs": [],
   "source": [
    "from pathlib import Path\n",
    "# Estableciendo el texto que se quiere buscar\n",
    "buscar = \"archivo_1\"\n",
    "ruta = Path(\"Nueva_Carpeta\")\n",
    "# Creando una lista con todos los archivos\n",
    "archivo = list(ruta.glob(\"**/*.txt\"))\n",
    "print(archivo)"
   ]
  },
  {
   "cell_type": "code",
   "execution_count": null,
   "metadata": {},
   "outputs": [],
   "source": [
    "for ruta in archivo:\n",
    "    # Imprimiendo todos los archivos en la ruta\n",
    "    print(ruta)"
   ]
  },
  {
   "cell_type": "code",
   "execution_count": null,
   "metadata": {},
   "outputs": [],
   "source": [
    "for ruta in archivo: # Iterar los archivos de la ruta\n",
    "    if buscar in ruta.name: # Si la variable buscar está en el nombre del archivo\n",
    "        # Se imprime el archivo\n",
    "        print(ruta.absolute())"
   ]
  }
 ],
 "metadata": {
  "kernelspec": {
   "display_name": "Python 3",
   "language": "python",
   "name": "python3"
  },
  "language_info": {
   "codemirror_mode": {
    "name": "ipython",
    "version": 3
   },
   "file_extension": ".py",
   "mimetype": "text/x-python",
   "name": "python",
   "nbconvert_exporter": "python",
   "pygments_lexer": "ipython3",
   "version": "3.12.4"
  }
 },
 "nbformat": 4,
 "nbformat_minor": 2
}
