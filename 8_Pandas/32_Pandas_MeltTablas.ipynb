{
 "cells": [
  {
   "cell_type": "code",
   "execution_count": null,
   "metadata": {},
   "outputs": [],
   "source": [
    "import pandas as pd\n",
    "import numpy as np\n",
    "\n",
    "# Creamos un DataFrame con datos de partidos de fútbol\n",
    "df = pd.DataFrame({\n",
    "    'Equipo' : ['Barcelona', 'Madrid', 'Sevilla', 'Madrid', 'Barcelona', 'Sevilla', 'Madrid', 'Barcelona'],\n",
    "    'Oponente' : ['Sevilla', 'Barcelona', 'Madrid', 'Sevilla', 'Madrid', 'Barcelona', 'Barcelona', 'Sevilla'],\n",
    "    'Goles anotados' : np.random.randint(0, 5, size=8), # Generar un número random de 0 a 5, hasta 8 veces\n",
    "    'Goles recibidos' : np.random.randint(0, 5, size=8) # Generar un número random de 0 a 5, hasta 8 veces\n",
    "})\n",
    "print(df)"
   ]
  },
  {
   "cell_type": "code",
   "execution_count": null,
   "metadata": {},
   "outputs": [],
   "source": [
    "# Creación de una tabla dinámica \n",
    "pivot_table = df.pivot_table(values=['Goles anotados', 'Goles recibidos'], index='Equipo', aggfunc=np.sum)\n",
    "# Establecer dos columnas, teniendo en cuenta cada equipo del apartado Equipo y realizar la suma de goles totales\n",
    "print(pivot_table)"
   ]
  },
  {
   "cell_type": "code",
   "execution_count": null,
   "metadata": {},
   "outputs": [],
   "source": [
    "# Agregamos una columna para la diferencia de goles\n",
    "pivot_table['Diferencia de goles'] = pivot_table['Goles anotados'] - pivot_table['Goles recibidos']\n",
    "print(pivot_table)"
   ]
  },
  {
   "cell_type": "code",
   "execution_count": null,
   "metadata": {},
   "outputs": [],
   "source": [
    "# Usamos la función de agregación mean()\n",
    "pivot_table = df.pivot_table(values='Goles anotados', index='Equipo', aggfunc=np.mean)\n",
    "print(pivot_table)"
   ]
  },
  {
   "cell_type": "code",
   "execution_count": null,
   "metadata": {},
   "outputs": [],
   "source": [
    "pivot_table = df.pivot_table(values='Goles anotados', index=['Equipo', 'Oponente'], aggfunc=np.sum)\n",
    "print(pivot_table)"
   ]
  },
  {
   "cell_type": "code",
   "execution_count": null,
   "metadata": {},
   "outputs": [],
   "source": [
    "import matplotlib.pyplot as plt \n",
    "\n",
    "# Creación de una tabla dinámica\n",
    "pivot_table = df.pivot_table(values=['Goles anotados', 'Goles recibidos'], index='Equipo', aggfunc=np.sum)\n",
    "print(pivot_table)\n",
    "\n",
    "# Agregamos una columna para la diferencia de goles\n",
    "pivot_table['Diferencia de goles'] = pivot_table['Goles anotados'] - pivot_table['Goles recibidos']\n",
    "print(pivot_table)\n",
    "\n",
    "# Crear un grafico de barras a partir de la tabla dinamica\n",
    "pivot_table['Diferencia de goles'].plot(kind='bar')\n",
    "plt.ylabel('Diferencia de goles')\n",
    "plt.show()"
   ]
  }
 ],
 "metadata": {
  "kernelspec": {
   "display_name": "Python 3",
   "language": "python",
   "name": "python3"
  },
  "language_info": {
   "codemirror_mode": {
    "name": "ipython",
    "version": 3
   },
   "file_extension": ".py",
   "mimetype": "text/x-python",
   "name": "python",
   "nbconvert_exporter": "python",
   "pygments_lexer": "ipython3",
   "version": "3.12.4"
  }
 },
 "nbformat": 4,
 "nbformat_minor": 2
}
