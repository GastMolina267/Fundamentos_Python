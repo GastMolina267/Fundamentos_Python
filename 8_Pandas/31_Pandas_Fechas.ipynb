{
 "cells": [
  {
   "cell_type": "code",
   "execution_count": null,
   "metadata": {},
   "outputs": [],
   "source": [
    "from datetime import datetime\n",
    "import pandas as pd\n",
    "import numpy as np"
   ]
  },
  {
   "cell_type": "code",
   "execution_count": null,
   "metadata": {},
   "outputs": [],
   "source": [
    "# Convertir cadena de texto a datatime\n",
    "fecha_str = '2024-08-13 09:30:00'\n",
    "fecha_dt = pd.to_datetime(fecha_str)\n",
    "## Objetos diferentes\n",
    "print(fecha_dt)\n",
    "print(fecha_str)"
   ]
  },
  {
   "cell_type": "code",
   "execution_count": null,
   "metadata": {},
   "outputs": [],
   "source": [
    "# Creando un objeto Timestamp en Pandas\n",
    "timestap = pd.Timestamp(datetime.now())\n",
    "print(timestap)"
   ]
  },
  {
   "cell_type": "code",
   "execution_count": null,
   "metadata": {},
   "outputs": [],
   "source": [
    "# Creando un DatatimeIndex en Pandas\n",
    "meses = pd.date_range(start='2024-01-01', end='2024-12-31', freq='M')\n",
    "print(meses)"
   ]
  },
  {
   "cell_type": "code",
   "execution_count": null,
   "metadata": {},
   "outputs": [],
   "source": [
    "dias = pd.date_range(start='2024-01-01', end='2024-01-31', freq='D')\n",
    "print(dias)"
   ]
  },
  {
   "cell_type": "code",
   "execution_count": null,
   "metadata": {},
   "outputs": [],
   "source": [
    "dias = pd.date_range(start='2024-01-01', end='2024-01-31', freq='H')\n",
    "print(dias)"
   ]
  },
  {
   "cell_type": "code",
   "execution_count": null,
   "metadata": {},
   "outputs": [],
   "source": [
    "# Creación de series de tiempo\n",
    "serie = pd.Series(np.random.rand(len(meses)), index=meses)\n",
    "print(serie)"
   ]
  },
  {
   "cell_type": "code",
   "execution_count": null,
   "metadata": {},
   "outputs": [],
   "source": [
    "from datetime import timedelta\n",
    "# Creando un objeto timedelta\n",
    "# Creando un objeto Timestamp en Pandas\n",
    "timestap = pd.Timestamp(datetime.now())\n",
    "print(timestap)\n",
    "delta = timedelta(days=7)\n",
    "print(delta)\n",
    "nueva_fecha = timestap + delta\n",
    "print(nueva_fecha)"
   ]
  }
 ],
 "metadata": {
  "kernelspec": {
   "display_name": "Python 3",
   "language": "python",
   "name": "python3"
  },
  "language_info": {
   "codemirror_mode": {
    "name": "ipython",
    "version": 3
   },
   "file_extension": ".py",
   "mimetype": "text/x-python",
   "name": "python",
   "nbconvert_exporter": "python",
   "pygments_lexer": "ipython3",
   "version": "3.12.4"
  }
 },
 "nbformat": 4,
 "nbformat_minor": 2
}
