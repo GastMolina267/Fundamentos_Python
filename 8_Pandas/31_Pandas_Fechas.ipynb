{
 "cells": [
  {
   "cell_type": "code",
   "execution_count": null,
   "metadata": {},
   "outputs": [],
   "source": [
    "from datetime import datetime\n",
    "import pandas as pd\n",
    "import numpy as np"
   ]
  },
  {
   "cell_type": "code",
   "execution_count": null,
   "metadata": {},
   "outputs": [],
   "source": [
    "# Convertir cadena de texto a datatime\n",
    "fecha_str = '2024-08-13 09:30:00'\n",
    "fecha_dt = pd.to_datetime(fecha_str)\n",
    "## Objetos diferentes\n",
    "print(fecha_dt)\n",
    "print(fecha_str)"
   ]
  },
  {
   "cell_type": "code",
   "execution_count": null,
   "metadata": {},
   "outputs": [],
   "source": [
    "# Creando un objeto Timestamp en Pandas\n",
    "timestap = pd.Timestamp(datetime.now())\n",
    "print(timestap)"
   ]
  },
  {
   "cell_type": "code",
   "execution_count": null,
   "metadata": {},
   "outputs": [],
   "source": [
    "# Creando un DatatimeIndex en Pandas\n",
    "meses = pd.date_range(start='2024-01-01', end='2024-12-31', freq='M')\n",
    "print(meses)"
   ]
  },
  {
   "cell_type": "code",
   "execution_count": null,
   "metadata": {},
   "outputs": [],
   "source": [
    "dias = pd.date_range(start='2024-01-01', end='2024-01-31', freq='D')\n",
    "print(dias)"
   ]
  },
  {
   "cell_type": "code",
   "execution_count": null,
   "metadata": {},
   "outputs": [],
   "source": [
    "dias = pd.date_range(start='2024-01-01', end='2024-01-31', freq='H')\n",
    "print(dias)"
   ]
  },
  {
   "cell_type": "code",
   "execution_count": null,
   "metadata": {},
   "outputs": [],
   "source": [
    "# Creación de series de tiempo\n",
    "serie = pd.Series(np.random.rand(len(meses)), index=meses)\n",
    "print(serie)"
   ]
  },
  {
   "cell_type": "code",
   "execution_count": null,
   "metadata": {},
   "outputs": [],
   "source": [
    "from datetime import timedelta\n",
    "# Creando un objeto timedelta\n",
    "# Creando un objeto Timestamp en Pandas\n",
    "timestap = pd.Timestamp(datetime.now())\n",
    "print(timestap)\n",
    "delta = timedelta(days=7)\n",
    "print(delta)\n",
    "nueva_fecha = timestap + delta\n",
    "print(nueva_fecha)"
   ]
  },
  {
   "cell_type": "code",
   "execution_count": null,
   "metadata": {},
   "outputs": [],
   "source": [
    "# Suponiendo que 'precios' es nuestra serie de tiempo de precios de cierre diarios\n",
    "precios = pd.Series(np.random.rand(100), index=pd.date_range(start='2024-01-01', periods=100, freq='D'))\n",
    "print(precios)\n",
    "# Calcular la media móvil de los últimos 7 días\n",
    "media_movil = precios.rolling(window=7).mean()\n",
    "print(media_movil.head(7))"
   ]
  },
  {
   "cell_type": "code",
   "execution_count": null,
   "metadata": {},
   "outputs": [],
   "source": [
    "import matplotlib.pyplot as plt\n",
    "\n",
    "# Trazar la serie de tiempo de precios y la media móvil\n",
    "plt.figure(figsize=(12,6))\n",
    "precios.plot(label='Precio de cierre')\n",
    "media_movil.plot(label='Media móvil de 7 días')\n",
    "plt.title('Precio de cierre y media móvil de 7 días')\n",
    "plt.legend()\n",
    "plt.show()"
   ]
  }
 ],
 "metadata": {
  "kernelspec": {
   "display_name": "Python 3",
   "language": "python",
   "name": "python3"
  },
  "language_info": {
   "codemirror_mode": {
    "name": "ipython",
    "version": 3
   },
   "file_extension": ".py",
   "mimetype": "text/x-python",
   "name": "python",
   "nbconvert_exporter": "python",
   "pygments_lexer": "ipython3",
   "version": "3.12.4"
  }
 },
 "nbformat": 4,
 "nbformat_minor": 2
}
